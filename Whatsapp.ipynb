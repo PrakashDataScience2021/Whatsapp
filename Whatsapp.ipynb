{
 "cells": [
  {
   "cell_type": "code",
   "execution_count": null,
   "metadata": {},
   "outputs": [],
   "source": [
    "from twilio.rest import Client \n",
    " \n",
    "account_sid = 'AC6ff7f980299f6d47bf1bff7171410bd6' \n",
    "auth_token = '9ab3f242ab4b05cd1d650761f510a768' \n",
    "client = Client(account_sid, auth_token) \n",
    " \n",
    "message = client.messages.create( \n",
    "                              from_='whatsapp:+14155238886',  \n",
    "                              body='Your appointment is coming up on July 21 at 3PM',      \n",
    "                              to='whatsapp:+918919351417' \n",
    "                          ) \n",
    " \n",
    "print(message.sid)"
   ]
  }
 ],
 "metadata": {
  "kernelspec": {
   "display_name": "Python 3",
   "language": "python",
   "name": "python3"
  },
  "language_info": {
   "codemirror_mode": {
    "name": "ipython",
    "version": 3
   },
   "file_extension": ".py",
   "mimetype": "text/x-python",
   "name": "python",
   "nbconvert_exporter": "python",
   "pygments_lexer": "ipython3",
   "version": "3.8.3"
  }
 },
 "nbformat": 4,
 "nbformat_minor": 4
}
