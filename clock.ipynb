{
 "cells": [
  {
   "cell_type": "code",
   "execution_count": null,
   "metadata": {},
   "outputs": [],
   "source": [
    "from datetime import datetime\n",
    "\n",
    "from apscheduler.schedulers.blocking import BlockingScheduler\n",
    "\n",
    "\n",
    "def job_function():\n",
    "    print(\"Hello World\")\n",
    "\n",
    "sched = BlockingScheduler()\n",
    "\n",
    "# Schedule job_function to be called every two hours\n",
    "sched.add_job(job_function, 'interval', hours=2)\n",
    "\n",
    "sched.start()"
   ]
  },
  {
   "cell_type": "code",
   "execution_count": null,
   "metadata": {},
   "outputs": [],
   "source": []
  }
 ],
 "metadata": {
  "kernelspec": {
   "display_name": "Python 3",
   "language": "python",
   "name": "python3"
  },
  "language_info": {
   "codemirror_mode": {
    "name": "ipython",
    "version": 3
   },
   "file_extension": ".py",
   "mimetype": "text/x-python",
   "name": "python",
   "nbconvert_exporter": "python",
   "pygments_lexer": "ipython3",
   "version": "3.8.3"
  }
 },
 "nbformat": 4,
 "nbformat_minor": 4
}
